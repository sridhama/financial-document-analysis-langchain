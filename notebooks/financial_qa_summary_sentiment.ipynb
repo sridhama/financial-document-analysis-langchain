{
  "cells": [
    {
      "cell_type": "markdown",
      "metadata": {
        "id": "UrTC1-xINjja"
      },
      "source": [
        "### Imports and API key"
      ]
    },
    {
      "cell_type": "code",
      "execution_count": 2,
      "metadata": {
        "id": "PN6JbMOIrj27"
      },
      "outputs": [],
      "source": [
        "import os\n",
        "\n",
        "from langchain.llms import OpenAI, HuggingFacePipeline\n",
        "from langchain.embeddings import OpenAIEmbeddings\n",
        "from langchain.document_loaders import PyPDFLoader\n",
        "from langchain.vectorstores import FAISS\n",
        "from langchain.agents import tool, AgentType\n",
        "from langchain.agents.initialize import initialize_agent\n",
        "from langchain.agents.agent_toolkits import (\n",
        "    create_vectorstore_agent,\n",
        "    VectorStoreToolkit,\n",
        "    VectorStoreInfo,\n",
        ")\n",
        "\n",
        "from transformers import (\n",
        "    PegasusTokenizer,\n",
        "    PegasusForConditionalGeneration,\n",
        "    BertTokenizer,\n",
        "    BertForSequenceClassification,\n",
        "    pipeline\n",
        ")\n",
        "\n",
        "os.environ['OPENAI_API_KEY'] = 'YOUR_API_KEY'"
      ]
    },
    {
      "cell_type": "markdown",
      "metadata": {
        "id": "ngj5megLNnIZ"
      },
      "source": [
        "### Load and store documents in VectorDB"
      ]
    },
    {
      "cell_type": "code",
      "execution_count": 4,
      "metadata": {
        "id": "u6LJqfSixXNn"
      },
      "outputs": [],
      "source": [
        "# specify document path and metadata\n",
        "doc_info = {\n",
        "    'path': '../documents/financial_annual_report_2022.pdf',\n",
        "    'name': 'financial_annual_report_2022',\n",
        "    'description': \"a finance company's annual report documentation for the year 2022\"\n",
        "}"
      ]
    },
    {
      "cell_type": "code",
      "execution_count": 5,
      "metadata": {
        "colab": {
          "base_uri": "https://localhost:8080/"
        },
        "id": "7PHjkjp6xX_Y",
        "outputId": "ef488403-578f-40ce-9174-2d32a50a448f"
      },
      "outputs": [
        {
          "name": "stdout",
          "output_type": "stream",
          "text": [
            "num_pages: 352\n"
          ]
        }
      ],
      "source": [
        "# load and split PDF document\n",
        "loader = PyPDFLoader(doc_info['path'])\n",
        "pages = loader.load_and_split()\n",
        "print(f'num_pages: {len(pages)}')\n",
        "\n",
        "# use only the first 10 pages to save compute\n",
        "pages = pages[:10]\n",
        "\n",
        "# add document to vector database\n",
        "faiss_index = FAISS.from_documents(pages, OpenAIEmbeddings())\n",
        "vectorstore_info = VectorStoreInfo(name=doc_info['name'],\n",
        "                                   description=doc_info['description'],\n",
        "                                   vectorstore=faiss_index)\n",
        "toolkit = VectorStoreToolkit(vectorstore_info=vectorstore_info)"
      ]
    },
    {
      "cell_type": "markdown",
      "metadata": {
        "id": "2PNGRUkpNqxE"
      },
      "source": [
        "### Initialize models"
      ]
    },
    {
      "cell_type": "code",
      "execution_count": 6,
      "metadata": {
        "colab": {
          "base_uri": "https://localhost:8080/"
        },
        "id": "68vKMwB00qpX",
        "outputId": "50aefd72-7795-4931-c450-9e90c854f8c3"
      },
      "outputs": [
        {
          "name": "stderr",
          "output_type": "stream",
          "text": [
            "Some weights of PegasusForConditionalGeneration were not initialized from the model checkpoint at human-centered-summarization/financial-summarization-pegasus and are newly initialized: ['model.decoder.embed_positions.weight', 'model.encoder.embed_positions.weight']\n",
            "You should probably TRAIN this model on a down-stream task to be able to use it for predictions and inference.\n"
          ]
        }
      ],
      "source": [
        "# initialize base LLM\n",
        "llm = OpenAI(temperature=0)\n",
        "\n",
        "# initialize financial summarizer model\n",
        "summary_model_name = \"human-centered-summarization/financial-summarization-pegasus\"\n",
        "summary_tokenizer = PegasusTokenizer.from_pretrained(summary_model_name)\n",
        "summary_model = PegasusForConditionalGeneration.from_pretrained(summary_model_name)\n",
        "summary_hf = HuggingFacePipeline(pipeline=pipeline('summarization',\n",
        "                                 model=summary_model,\n",
        "                                 tokenizer=summary_tokenizer))\n",
        "\n",
        "# initialize financial sentiment analysis model\n",
        "sentiment_model_name = 'yiyanghkust/finbert-tone'\n",
        "finbert = BertForSequenceClassification.from_pretrained(sentiment_model_name,\n",
        "                                                        num_labels=3)\n",
        "finbert_tokenizer = BertTokenizer.from_pretrained(sentiment_model_name)\n",
        "finbert_pipe = pipeline(\"sentiment-analysis\", model=finbert,\n",
        "                        tokenizer=finbert_tokenizer)"
      ]
    },
    {
      "cell_type": "markdown",
      "metadata": {
        "id": "QOQbBM-JN2QC"
      },
      "source": [
        "### Create custom tools"
      ]
    },
    {
      "cell_type": "code",
      "execution_count": 7,
      "metadata": {
        "id": "OzMpSuJ_NcTm"
      },
      "outputs": [],
      "source": [
        "# define custom langchain tools\n",
        "@tool\n",
        "def financial_summary(text: str) -> str:\n",
        "    \"\"\"Returns the financial summary of the input text, \\\n",
        "    use this for any queries related to finding the summary \\\n",
        "    of the input. However, remember to extract the relevant snippet \\\n",
        "    from `financial_annual_report_2022` first, before using this function.\n",
        "    The input should always be a string related \\\n",
        "    to financial information, and this function always returns \\\n",
        "    the summary of this financial information.\"\"\"\n",
        "    return summary_hf.predict(text)\n",
        "\n",
        "@tool\n",
        "def financial_sentiment(text: str) -> str:\n",
        "    \"\"\"Returns the financial sentiment of the input text, \\\n",
        "    use this for any queries related to finding the sentiment \\\n",
        "    of the input. However, remember to extract the relevant snippet \\\n",
        "    from `financial_annual_report_2022` first, before using this function.\n",
        "    The input should always be a string related \\\n",
        "    to financial information, and this function always returns \\\n",
        "    the sentiment of this financial information.\"\"\"\n",
        "    return finbert_pipe(text)"
      ]
    },
    {
      "cell_type": "markdown",
      "metadata": {
        "id": "AHoqFjS-N4FR"
      },
      "source": [
        "### Initialize agents"
      ]
    },
    {
      "cell_type": "code",
      "execution_count": 8,
      "metadata": {
        "id": "xDCSUHKfL2aj"
      },
      "outputs": [],
      "source": [
        "# create retrieval agent\n",
        "retrieval_agent = create_vectorstore_agent(llm=llm,\n",
        "                                           toolkit=toolkit,\n",
        "                                           verbose=True)\n",
        "\n",
        "# create retrieval + summary agent\n",
        "summary_agent = initialize_agent(toolkit.get_tools() + [financial_summary],\n",
        "                                 llm,\n",
        "                                 agent=AgentType.CHAT_ZERO_SHOT_REACT_DESCRIPTION,\n",
        "                                 handle_parsing_errors=True,\n",
        "                                 verbose=True)\n",
        "\n",
        "# create retrieval + summary + sentiment analysis agent\n",
        "sentiment_agent = initialize_agent(toolkit.get_tools() + [financial_summary,\n",
        "                                                          financial_sentiment],\n",
        "                                  llm,\n",
        "                                  agent=AgentType.CHAT_ZERO_SHOT_REACT_DESCRIPTION,\n",
        "                                  handle_parsing_errors=True,\n",
        "                                  verbose=True)"
      ]
    },
    {
      "cell_type": "markdown",
      "metadata": {
        "id": "k_WmS-nGOE6u"
      },
      "source": [
        "### Results"
      ]
    },
    {
      "cell_type": "markdown",
      "metadata": {
        "id": "5MoW9mCPN5-r"
      },
      "source": [
        "#### Retrieval-only agent"
      ]
    },
    {
      "cell_type": "code",
      "execution_count": 9,
      "metadata": {
        "colab": {
          "base_uri": "https://localhost:8080/",
          "height": 226
        },
        "id": "GGOADfIOOY6N",
        "outputId": "50b27023-a7dc-499b-bb6b-352153a0bf84"
      },
      "outputs": [
        {
          "name": "stdout",
          "output_type": "stream",
          "text": [
            "\n",
            "\n",
            "\u001b[1m> Entering new AgentExecutor chain...\u001b[0m\n",
            "\u001b[32;1m\u001b[1;3m I need to find the financial information for Capital One in 2022\n",
            "Action: financial_annual_report_2022\n",
            "Action Input: Capital One's loan growth and revenue in 2022\u001b[0m\n",
            "Observation: \u001b[36;1m\u001b[1;3m Capital One's loan growth in 2022 was 13% and revenue was $34.3 billion, up 12.5% from 2021.\u001b[0m\n",
            "Thought:\u001b[32;1m\u001b[1;3m I now know the final answer\n",
            "Final Answer: Capital One's loan growth in 2022 was 13% and revenue was $34.3 billion, up 12.5% from 2021.\u001b[0m\n",
            "\n",
            "\u001b[1m> Finished chain.\u001b[0m\n"
          ]
        },
        {
          "data": {
            "application/vnd.google.colaboratory.intrinsic+json": {
              "type": "string"
            },
            "text/plain": [
              "\"Capital One's loan growth in 2022 was 13% and revenue was $34.3 billion, up 12.5% from 2021.\""
            ]
          },
          "execution_count": 9,
          "metadata": {},
          "output_type": "execute_result"
        }
      ],
      "source": [
        "query = \"How much was Capital One's loan growth and revenue in 2022 compared to 2021?\"\n",
        "retrieval_agent.run(query)"
      ]
    },
    {
      "cell_type": "markdown",
      "metadata": {
        "id": "bF73OI6FN9j8"
      },
      "source": [
        "#### Retrieval + summary agent"
      ]
    },
    {
      "cell_type": "code",
      "execution_count": 10,
      "metadata": {
        "colab": {
          "base_uri": "https://localhost:8080/",
          "height": 628
        },
        "id": "P2xwb56oOlVm",
        "outputId": "50f98a9a-cdad-46c5-c0c3-2b8413a64f4a"
      },
      "outputs": [
        {
          "name": "stdout",
          "output_type": "stream",
          "text": [
            "\n",
            "\n",
            "\u001b[1m> Entering new AgentExecutor chain...\u001b[0m\n",
            "\u001b[32;1m\u001b[1;3m\n",
            "Thought: I need to use the financial_annual_report_2022 and financial_summary tools to answer this question.\n",
            "\n",
            "Action:\n",
            "```\n",
            "{\n",
            "  \"action\": \"financial_annual_report_2022\",\n",
            "  \"action_input\": \"How much was Capital One's loan growth and revenue in 2022 compared to 2021?\"\n",
            "}\n",
            "```\n",
            "\u001b[0m\n",
            "Observation: \u001b[36;1m\u001b[1;3m Loan growth was 13% and revenue was 12.5% higher than 2021.\u001b[0m\n",
            "Thought:"
          ]
        },
        {
          "name": "stderr",
          "output_type": "stream",
          "text": [
            "Your max_length is set to 64, but your input_length is only 12. Since this is a summarization task, where outputs shorter than the input are typically wanted, you might consider decreasing max_length manually, e.g. summarizer('...', max_length=6)\n"
          ]
        },
        {
          "name": "stdout",
          "output_type": "stream",
          "text": [
            "\u001b[32;1m\u001b[1;3m I now need to summarize this information.\n",
            "\n",
            "Action:\n",
            "```\n",
            "{\n",
            "  \"action\": \"financial_summary\",\n",
            "  \"action_input\": \"Loan growth was 13% and revenue was 12.5% higher than 2021.\"\n",
            "}\n",
            "```\n",
            "\n",
            "\u001b[0m\n",
            "Observation: \u001b[38;5;200m\u001b[1;3mLoan growth was 13%, revenue was 12.5% higher in 2021\u001b[0m\n",
            "Thought:\u001b[32;1m\u001b[1;3m I now know the final answer.\n",
            "\n",
            "Final Answer: Capital One's loan growth and revenue in 2022 were 13% and 12.5% higher than 2021, respectively.\u001b[0m\n",
            "\n",
            "\u001b[1m> Finished chain.\u001b[0m\n"
          ]
        },
        {
          "data": {
            "application/vnd.google.colaboratory.intrinsic+json": {
              "type": "string"
            },
            "text/plain": [
              "\"Capital One's loan growth and revenue in 2022 were 13% and 12.5% higher than 2021, respectively.\""
            ]
          },
          "execution_count": 10,
          "metadata": {},
          "output_type": "execute_result"
        }
      ],
      "source": [
        "summary_agent.run(f'{query} After retrieving, summarize the information.')"
      ]
    },
    {
      "cell_type": "markdown",
      "metadata": {
        "id": "7Xj1VszfOATz"
      },
      "source": [
        "#### Retrieval + summary + sentiment analysis agent"
      ]
    },
    {
      "cell_type": "code",
      "execution_count": 11,
      "metadata": {
        "colab": {
          "base_uri": "https://localhost:8080/",
          "height": 539
        },
        "id": "05fydlZyVsoA",
        "outputId": "377f08bb-ef65-429e-fc92-3f686bed9e46"
      },
      "outputs": [
        {
          "name": "stdout",
          "output_type": "stream",
          "text": [
            "\n",
            "\n",
            "\u001b[1m> Entering new AgentExecutor chain...\u001b[0m\n",
            "\u001b[32;1m\u001b[1;3m\n",
            "Thought: I need to use the financial_annual_report_2022 and financial_sentiment tools\n",
            "Action:\n",
            "```\n",
            "{\n",
            "  \"action\": \"financial_annual_report_2022\",\n",
            "  \"action_input\": \"How much was Capital One's loan growth and revenue in 2022 compared to 2021?\"\n",
            "}\n",
            "```\n",
            "\u001b[0m\n",
            "Observation: \u001b[36;1m\u001b[1;3m Loan growth was 13% and revenue was 12.5% higher than 2021.\u001b[0m\n",
            "Thought:\u001b[32;1m\u001b[1;3m I need to use the financial_sentiment tool\n",
            "Action:\n",
            "```\n",
            "{\n",
            "  \"action\": \"financial_sentiment\",\n",
            "  \"action_input\": \"Loan growth was 13% and revenue was 12.5% higher than 2021.\"\n",
            "}\n",
            "```\n",
            "\n",
            "\u001b[0m\n",
            "Observation: \u001b[36;1m\u001b[1;3m[{'label': 'Positive', 'score': 1.0}]\u001b[0m\n",
            "Thought:\u001b[32;1m\u001b[1;3m I now know the final answer\n",
            "Final Answer: Capital One's loan growth and revenue in 2022 was 13% and 12.5% higher than 2021 respectively, with a positive sentiment.\u001b[0m\n",
            "\n",
            "\u001b[1m> Finished chain.\u001b[0m\n"
          ]
        },
        {
          "data": {
            "application/vnd.google.colaboratory.intrinsic+json": {
              "type": "string"
            },
            "text/plain": [
              "\"Capital One's loan growth and revenue in 2022 was 13% and 12.5% higher than 2021 respectively, with a positive sentiment.\""
            ]
          },
          "execution_count": 11,
          "metadata": {},
          "output_type": "execute_result"
        }
      ],
      "source": [
        "sentiment_agent.run(f'{query} After retrieving, provide the finanical sentiment.')"
      ]
    }
  ],
  "metadata": {
    "colab": {
      "provenance": []
    },
    "kernelspec": {
      "display_name": "Python 3",
      "name": "python3"
    },
    "language_info": {
      "name": "python"
    }
  },
  "nbformat": 4,
  "nbformat_minor": 0
}
